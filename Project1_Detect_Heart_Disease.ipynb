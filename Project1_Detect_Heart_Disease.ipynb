{
 "cells": [
  {
   "cell_type": "markdown",
   "id": "d20dffa9-17dc-4515-9183-c407d9dacba3",
   "metadata": {},
   "source": [
    "# Disease Prediction Using ML Algorithms\n"
   ]
  },
  {
   "cell_type": "code",
   "execution_count": 2,
   "id": "84bc5a49-0608-46e3-b82f-485dbfd69498",
   "metadata": {},
   "outputs": [
    {
     "name": "stdout",
     "output_type": "stream",
     "text": [
      "Dataset Sample:\n",
      "   age  sex  chest pain type  resting bps  cholesterol  fasting blood sugar  \\\n",
      "0   40    1                2          140          289                    0   \n",
      "1   49    0                3          160          180                    0   \n",
      "2   37    1                2          130          283                    0   \n",
      "3   48    0                4          138          214                    0   \n",
      "4   54    1                3          150          195                    0   \n",
      "\n",
      "   resting ecg  max heart rate  exercise angina  oldpeak  ST slope  target  \n",
      "0            0             172                0      0.0         1       0  \n",
      "1            0             156                0      1.0         2       1  \n",
      "2            1              98                0      0.0         1       0  \n",
      "3            0             108                1      1.5         2       1  \n",
      "4            0             122                0      0.0         1       0  \n",
      "\n",
      "\n",
      "Missing Values:\n",
      " age                    0\n",
      "sex                    0\n",
      "chest pain type        0\n",
      "resting bps            0\n",
      "cholesterol            0\n",
      "fasting blood sugar    0\n",
      "resting ecg            0\n",
      "max heart rate         0\n",
      "exercise angina        0\n",
      "oldpeak                0\n",
      "ST slope               0\n",
      "target                 0\n",
      "dtype: int64\n",
      "\n",
      "\n",
      "Logistic Regression Accuracy: 0.84\n",
      "Random Forest Accuracy: 0.93\n",
      "\n",
      "\n",
      "Best Model Metrics:\n",
      "\n",
      "Accuracy Score: 0.9285714285714286\n",
      "\n",
      "Classification Report:\n",
      "               precision    recall  f1-score   support\n",
      "\n",
      "           0       0.93      0.92      0.92       112\n",
      "           1       0.93      0.94      0.93       126\n",
      "\n",
      "    accuracy                           0.93       238\n",
      "   macro avg       0.93      0.93      0.93       238\n",
      "weighted avg       0.93      0.93      0.93       238\n",
      "\n",
      "Confusion Matrix:\n",
      " [[103   9]\n",
      " [  8 118]]\n"
     ]
    },
    {
     "data": {
      "image/png": "[encoded data removed]",
      "text/plain": [
       "<Figure size 800x600 with 2 Axes>"
      ]
     },
     "metadata": {},
     "output_type": "display_data"
    }
   ],
   "source": [
    "import pandas as pd\n",
    "import numpy as np\n",
    "from sklearn.model_selection import train_test_split\n",
    "from sklearn.preprocessing import StandardScaler\n",
    "from sklearn.linear_model import LogisticRegression\n",
    "from sklearn.ensemble import RandomForestClassifier\n",
    "from sklearn.metrics import accuracy_score, confusion_matrix, classification_report\n",
    "import matplotlib.pyplot as plt\n",
    "import seaborn as sns\n",
    "import warnings\n",
    "\n",
    "warnings.filterwarnings('ignore')\n",
    "\n",
    "\n",
    "# Step 1: Load Dataset\n",
    "df = pd.read_csv('heart_disease.csv')\n",
    "\n",
    "# Displaying 1st five rows\n",
    "print(\"Dataset Sample:\")\n",
    "print(df.head())\n",
    "\n",
    "\n",
    "# Step 2: Data Preprocessing\n",
    "print(\"\\n\\nMissing Values:\\n\",df.isnull().sum())\n",
    "\n",
    "# Feature Scaling\n",
    "scaler = StandardScaler()\n",
    "scaled_features = scaler.fit_transform(df.drop('target', axis=1))\n",
    "\n",
    "X = pd.DataFrame(scaled_features, columns = df.columns[:-1])\n",
    "y = df['target']\n",
    "\n",
    "\n",
    "# Step 3: Split the dataset\n",
    "X_train, X_test, y_train, y_test = train_test_split(X, y, test_size=0.2, random_state =42, stratify =y)\n",
    "\n",
    "\n",
    "# Step 4: Train Multiple ML models\n",
    "# 1. Logistic Regression\n",
    "log_model = LogisticRegression()\n",
    "log_model.fit(X_train, y_train)\n",
    "log_preds = log_model.predict(X_test)\n",
    "log_accuracy = accuracy_score(y_test, log_preds)\n",
    "print(f\"\\n\\nLogistic Regression Accuracy: {log_accuracy:.2f}\")\n",
    "\n",
    "# 2. Random Forest Classifier\n",
    "rf_model = RandomForestClassifier(n_estimators=100, random_state=42)\n",
    "rf_model.fit(X_train, y_train)\n",
    "rf_preds = rf_model.predict(X_test)\n",
    "rf_accuracy = accuracy_score(y_test, rf_preds)\n",
    "print(f\"Random Forest Accuracy: {rf_accuracy:.2f}\")\n",
    "\n",
    "\n",
    "# Step 5: Evaluate the Best Model\n",
    "best_model = rf_model if rf_accuracy > log_accuracy else log_model\n",
    "best_preds = rf_preds if rf_accuracy > log_accuracy else log_preds\n",
    "\n",
    "print(\"\\n\\nBest Model Metrics:\")\n",
    "print(\"\\nAccuracy Score:\", accuracy_score(y_test, best_preds))\n",
    "print(\"\\nClassification Report:\\n\", classification_report(y_test, best_preds))\n",
    "print(\"Confusion Matrix:\\n\", confusion_matrix(y_test, best_preds))\n",
    "\n",
    "\n",
    "# Step 6: Visualize the Confusion Matrix\n",
    "plt.figure(figsize=(8,6))\n",
    "sns.heatmap(confusion_matrix(y_test, best_preds), annot=True, cmap='Blues', fmt='d')\n",
    "plt.title('Confusion Matrix')\n",
    "plt.xlabel('Predicted')\n",
    "plt.ylabel('Actual')\n",
    "plt.show()\n",
    "\n",
    "\n",
    "\n"
   ]
  },
  {
   "cell_type": "code",
   "execution_count": 3,
   "id": "ab851371-8222-4167-955e-e930201c8105",
   "metadata": {},
   "outputs": [
    {
     "name": "stdout",
     "output_type": "stream",
     "text": [
      "\n",
      "Prediction for New Data Row 1: No Heart Disease...\n",
      "\n",
      "Prediction for New Data Row 2: At Risk of Heart Disease!\n"
     ]
    }
   ],
   "source": [
    "# Step 7: Making Predictions on new data\n",
    "new_data  = pd.DataFrame({\n",
    "    'age': [40, 39],\n",
    "    'sex': [1, 0],\n",
    "    'chest pain type': [2, 4],\n",
    "    'resting bps': [100, 120],\n",
    "    'cholesterol': [170, 239],\n",
    "    'fasting blood sugar': [0, 1],\n",
    "    'resting ecg': [0, 0],\n",
    "    'max heart rate': [50, 80],\n",
    "    'exercise angina': [0, 1],\n",
    "    'oldpeak': [0.5, 1],\n",
    "    'ST slope': [0, 1]\n",
    "})\n",
    "\n",
    "# Scaling new data\n",
    "new_data_scaled = scaler.transform(new_data)\n",
    "\n",
    "# Making predictions\n",
    "predictions = best_model.predict(new_data_scaled)\n",
    "\n",
    "# Output predictions\n",
    "for i, prediction in enumerate(predictions):\n",
    "    result = \"At Risk of Heart Disease!\" if prediction == 1 else \"No Heart Disease...\"\n",
    "    print(f\"\\nPrediction for New Data Row {i+1}: {result}\")\n",
    "\n",
    "\n",
    "\n"
   ]
  },
  {
   "cell_type": "code",
   "execution_count": 4,
   "id": "bd887d27-f343-4284-91a2-f7f1d8312703",
   "metadata": {},
   "outputs": [
    {
     "data": {
      "image/png": "[encoded data removed]",
      "text/plain": [
       "<Figure size 600x400 with 1 Axes>"
      ]
     },
     "metadata": {},
     "output_type": "display_data"
    }
   ],
   "source": [
    "# Step 8: Visualize Model Comparison\n",
    "models = ['Logistic Regression', 'Random Forest']\n",
    "accuracies = [log_accuracy, rf_accuracy]\n",
    "\n",
    "plt.figure(figsize=(6,4))\n",
    "sns.barplot(x=models, y=accuracies, palette='viridis')\n",
    "plt.title('Model Accuracy Comparison')\n",
    "plt.ylabel('Accuracy')\n",
    "plt.ylim(0, 1)\n",
    "for i, acc in enumerate(accuracies):\n",
    "    plt.text(i, acc + 0.01, f'{acc:.2f}', ha='center')\n",
    "plt.show()"
   ]
  }
 ],
 "metadata": {
  "kernelspec": {
   "display_name": "Python 3 (ipykernel)",
   "language": "python",
   "name": "python3"
  },
  "language_info": {
   "codemirror_mode": {
    "name": "ipython",
    "version": 3
   },
   "file_extension": ".py",
   "mimetype": "text/x-python",
   "name": "python",
   "nbconvert_exporter": "python",
   "pygments_lexer": "ipython3",
   "version": "3.11.0"
  }
 },
 "nbformat": 4,
 "nbformat_minor": 5
}
